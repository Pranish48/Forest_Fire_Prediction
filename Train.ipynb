{
 "cells": [
  {
   "cell_type": "markdown",
   "id": "085fde32-9946-47ba-84d9-36e09830c5bb",
   "metadata": {},
   "source": [
    "## IMPORT LIBRARIES"
   ]
  },
  {
   "cell_type": "code",
   "execution_count": 36,
   "id": "65dfae8b-4f35-4886-b357-2f5d4c2df262",
   "metadata": {},
   "outputs": [],
   "source": [
    "import pandas as pd\n",
    "import matplotlib.pyplot as plt\n",
    "import seaborn as sns\n",
    "from sklearn.preprocessing import OneHotEncoder\n",
    "from sklearn.model_selection import train_test_split"
   ]
  },
  {
   "cell_type": "markdown",
   "id": "52e97a9e-e9ad-4675-8a78-8db12a36713a",
   "metadata": {},
   "source": [
    "## LOAD AND SEE DATA"
   ]
  },
  {
   "cell_type": "code",
   "execution_count": 2,
   "id": "ad6ed056-bab8-4d66-a994-9875eff33a00",
   "metadata": {},
   "outputs": [],
   "source": [
    "df=pd.read_csv(\"fire.csv\")"
   ]
  },
  {
   "cell_type": "code",
   "execution_count": 3,
   "id": "a0bec934-84c4-464b-942c-e06dda2037c9",
   "metadata": {},
   "outputs": [],
   "source": [
    "df['DATE'] = pd.to_datetime(df['DATE'], format='%Y-%m-%d')\n",
    "df['YEAR'] = df['DATE'].dt.year\n",
    "df['MONTH'] = df['DATE'].dt.month\n",
    "df['DAY'] = df['DATE'].dt.day"
   ]
  },
  {
   "cell_type": "code",
   "execution_count": 4,
   "id": "4b23f8f6-cdbe-43ac-b670-f8006f0fec19",
   "metadata": {},
   "outputs": [
    {
     "data": {
      "text/html": [
       "<div>\n",
       "<style scoped>\n",
       "    .dataframe tbody tr th:only-of-type {\n",
       "        vertical-align: middle;\n",
       "    }\n",
       "\n",
       "    .dataframe tbody tr th {\n",
       "        vertical-align: top;\n",
       "    }\n",
       "\n",
       "    .dataframe thead th {\n",
       "        text-align: right;\n",
       "    }\n",
       "</style>\n",
       "<table border=\"1\" class=\"dataframe\">\n",
       "  <thead>\n",
       "    <tr style=\"text-align: right;\">\n",
       "      <th></th>\n",
       "      <th>DATE</th>\n",
       "      <th>PRECIPITATION</th>\n",
       "      <th>MAX_TEMP</th>\n",
       "      <th>MIN_TEMP</th>\n",
       "      <th>AVG_WIND_SPEED</th>\n",
       "      <th>FIRE_START_DAY</th>\n",
       "      <th>YEAR</th>\n",
       "      <th>TEMP_RANGE</th>\n",
       "      <th>WIND_TEMP_RATIO</th>\n",
       "      <th>MONTH</th>\n",
       "      <th>SEASON</th>\n",
       "      <th>LAGGED_PRECIPITATION</th>\n",
       "      <th>LAGGED_AVG_WIND_SPEED</th>\n",
       "      <th>DAY_OF_YEAR</th>\n",
       "      <th>DAY</th>\n",
       "    </tr>\n",
       "  </thead>\n",
       "  <tbody>\n",
       "    <tr>\n",
       "      <th>0</th>\n",
       "      <td>1984-01-01</td>\n",
       "      <td>0.0</td>\n",
       "      <td>79.0</td>\n",
       "      <td>51.0</td>\n",
       "      <td>4.70</td>\n",
       "      <td>False</td>\n",
       "      <td>1984</td>\n",
       "      <td>28.0</td>\n",
       "      <td>0.059494</td>\n",
       "      <td>1</td>\n",
       "      <td>Winter</td>\n",
       "      <td>0.0</td>\n",
       "      <td>4.700</td>\n",
       "      <td>1</td>\n",
       "      <td>1</td>\n",
       "    </tr>\n",
       "    <tr>\n",
       "      <th>1</th>\n",
       "      <td>1984-01-02</td>\n",
       "      <td>0.0</td>\n",
       "      <td>71.0</td>\n",
       "      <td>46.0</td>\n",
       "      <td>5.59</td>\n",
       "      <td>False</td>\n",
       "      <td>1984</td>\n",
       "      <td>25.0</td>\n",
       "      <td>0.078732</td>\n",
       "      <td>1</td>\n",
       "      <td>Winter</td>\n",
       "      <td>0.0</td>\n",
       "      <td>5.145</td>\n",
       "      <td>2</td>\n",
       "      <td>2</td>\n",
       "    </tr>\n",
       "    <tr>\n",
       "      <th>2</th>\n",
       "      <td>1984-01-03</td>\n",
       "      <td>0.0</td>\n",
       "      <td>70.0</td>\n",
       "      <td>47.0</td>\n",
       "      <td>5.37</td>\n",
       "      <td>False</td>\n",
       "      <td>1984</td>\n",
       "      <td>23.0</td>\n",
       "      <td>0.076714</td>\n",
       "      <td>1</td>\n",
       "      <td>Winter</td>\n",
       "      <td>0.0</td>\n",
       "      <td>5.220</td>\n",
       "      <td>3</td>\n",
       "      <td>3</td>\n",
       "    </tr>\n",
       "    <tr>\n",
       "      <th>3</th>\n",
       "      <td>1984-01-04</td>\n",
       "      <td>0.0</td>\n",
       "      <td>76.0</td>\n",
       "      <td>45.0</td>\n",
       "      <td>4.70</td>\n",
       "      <td>False</td>\n",
       "      <td>1984</td>\n",
       "      <td>31.0</td>\n",
       "      <td>0.061842</td>\n",
       "      <td>1</td>\n",
       "      <td>Winter</td>\n",
       "      <td>0.0</td>\n",
       "      <td>5.090</td>\n",
       "      <td>4</td>\n",
       "      <td>4</td>\n",
       "    </tr>\n",
       "    <tr>\n",
       "      <th>4</th>\n",
       "      <td>1984-01-05</td>\n",
       "      <td>0.0</td>\n",
       "      <td>74.0</td>\n",
       "      <td>49.0</td>\n",
       "      <td>5.14</td>\n",
       "      <td>False</td>\n",
       "      <td>1984</td>\n",
       "      <td>25.0</td>\n",
       "      <td>0.069459</td>\n",
       "      <td>1</td>\n",
       "      <td>Winter</td>\n",
       "      <td>0.0</td>\n",
       "      <td>5.100</td>\n",
       "      <td>5</td>\n",
       "      <td>5</td>\n",
       "    </tr>\n",
       "  </tbody>\n",
       "</table>\n",
       "</div>"
      ],
      "text/plain": [
       "        DATE  PRECIPITATION  MAX_TEMP  MIN_TEMP  AVG_WIND_SPEED  \\\n",
       "0 1984-01-01            0.0      79.0      51.0            4.70   \n",
       "1 1984-01-02            0.0      71.0      46.0            5.59   \n",
       "2 1984-01-03            0.0      70.0      47.0            5.37   \n",
       "3 1984-01-04            0.0      76.0      45.0            4.70   \n",
       "4 1984-01-05            0.0      74.0      49.0            5.14   \n",
       "\n",
       "   FIRE_START_DAY  YEAR  TEMP_RANGE  WIND_TEMP_RATIO  MONTH  SEASON  \\\n",
       "0           False  1984        28.0         0.059494      1  Winter   \n",
       "1           False  1984        25.0         0.078732      1  Winter   \n",
       "2           False  1984        23.0         0.076714      1  Winter   \n",
       "3           False  1984        31.0         0.061842      1  Winter   \n",
       "4           False  1984        25.0         0.069459      1  Winter   \n",
       "\n",
       "   LAGGED_PRECIPITATION  LAGGED_AVG_WIND_SPEED  DAY_OF_YEAR  DAY  \n",
       "0                   0.0                  4.700            1    1  \n",
       "1                   0.0                  5.145            2    2  \n",
       "2                   0.0                  5.220            3    3  \n",
       "3                   0.0                  5.090            4    4  \n",
       "4                   0.0                  5.100            5    5  "
      ]
     },
     "execution_count": 4,
     "metadata": {},
     "output_type": "execute_result"
    }
   ],
   "source": [
    "df.head()"
   ]
  },
  {
   "cell_type": "code",
   "execution_count": 5,
   "id": "ee14782d-11bf-406f-95ea-44d03cb019c1",
   "metadata": {},
   "outputs": [
    {
     "name": "stdout",
     "output_type": "stream",
     "text": [
      "<class 'pandas.core.frame.DataFrame'>\n",
      "RangeIndex: 14988 entries, 0 to 14987\n",
      "Data columns (total 15 columns):\n",
      " #   Column                 Non-Null Count  Dtype         \n",
      "---  ------                 --------------  -----         \n",
      " 0   DATE                   14988 non-null  datetime64[ns]\n",
      " 1   PRECIPITATION          14987 non-null  float64       \n",
      " 2   MAX_TEMP               14987 non-null  float64       \n",
      " 3   MIN_TEMP               14987 non-null  float64       \n",
      " 4   AVG_WIND_SPEED         14976 non-null  float64       \n",
      " 5   FIRE_START_DAY         14988 non-null  bool          \n",
      " 6   YEAR                   14988 non-null  int32         \n",
      " 7   TEMP_RANGE             14987 non-null  float64       \n",
      " 8   WIND_TEMP_RATIO        14976 non-null  float64       \n",
      " 9   MONTH                  14988 non-null  int32         \n",
      " 10  SEASON                 14988 non-null  object        \n",
      " 11  LAGGED_PRECIPITATION   14988 non-null  float64       \n",
      " 12  LAGGED_AVG_WIND_SPEED  14988 non-null  float64       \n",
      " 13  DAY_OF_YEAR            14988 non-null  int64         \n",
      " 14  DAY                    14988 non-null  int32         \n",
      "dtypes: bool(1), datetime64[ns](1), float64(8), int32(3), int64(1), object(1)\n",
      "memory usage: 1.4+ MB\n"
     ]
    }
   ],
   "source": [
    "df.info()"
   ]
  },
  {
   "cell_type": "code",
   "execution_count": 6,
   "id": "6b28241b-f579-45e0-94fe-f8a16ccb6064",
   "metadata": {},
   "outputs": [
    {
     "data": {
      "text/plain": [
       "DATE                      0\n",
       "PRECIPITATION             1\n",
       "MAX_TEMP                  1\n",
       "MIN_TEMP                  1\n",
       "AVG_WIND_SPEED           12\n",
       "FIRE_START_DAY            0\n",
       "YEAR                      0\n",
       "TEMP_RANGE                1\n",
       "WIND_TEMP_RATIO          12\n",
       "MONTH                     0\n",
       "SEASON                    0\n",
       "LAGGED_PRECIPITATION      0\n",
       "LAGGED_AVG_WIND_SPEED     0\n",
       "DAY_OF_YEAR               0\n",
       "DAY                       0\n",
       "dtype: int64"
      ]
     },
     "execution_count": 6,
     "metadata": {},
     "output_type": "execute_result"
    }
   ],
   "source": [
    "df.isna().sum()"
   ]
  },
  {
   "cell_type": "code",
   "execution_count": 7,
   "id": "05483577-c16d-4e6e-b5bf-633ea44e3b27",
   "metadata": {},
   "outputs": [],
   "source": [
    "numeric_cols = ['PRECIPITATION','MAX_TEMP','MIN_TEMP','AVG_WIND_SPEED','TEMP_RANGE','WIND_TEMP_RATIO']\n",
    "\n",
    "for col in numeric_cols:\n",
    "    median_val = df[col].median()\n",
    "    df[col] = df[col].fillna(median_val)"
   ]
  },
  {
   "cell_type": "code",
   "execution_count": 8,
   "id": "66587eac-f705-4520-92e6-e8d525e8dd96",
   "metadata": {},
   "outputs": [
    {
     "data": {
      "text/plain": [
       "DATE                     0\n",
       "PRECIPITATION            0\n",
       "MAX_TEMP                 0\n",
       "MIN_TEMP                 0\n",
       "AVG_WIND_SPEED           0\n",
       "FIRE_START_DAY           0\n",
       "YEAR                     0\n",
       "TEMP_RANGE               0\n",
       "WIND_TEMP_RATIO          0\n",
       "MONTH                    0\n",
       "SEASON                   0\n",
       "LAGGED_PRECIPITATION     0\n",
       "LAGGED_AVG_WIND_SPEED    0\n",
       "DAY_OF_YEAR              0\n",
       "DAY                      0\n",
       "dtype: int64"
      ]
     },
     "execution_count": 8,
     "metadata": {},
     "output_type": "execute_result"
    }
   ],
   "source": [
    "df.isna().sum()"
   ]
  },
  {
   "cell_type": "markdown",
   "id": "3c59d7cc-ea32-4fb7-9c3a-6ac3b72b23af",
   "metadata": {},
   "source": [
    "## Exploratory Data Analysis (EDA)"
   ]
  },
  {
   "cell_type": "code",
   "execution_count": 9,
   "id": "9310a792-74a2-4f81-9b34-544cf51975f0",
   "metadata": {},
   "outputs": [
    {
     "data": {
      "image/png": "[encoded data removed]",
      "text/plain": [
       "<Figure size 600x400 with 1 Axes>"
      ]
     },
     "metadata": {},
     "output_type": "display_data"
    }
   ],
   "source": [
    "plt.figure(figsize=(6,4))\n",
    "sns.countplot(x='FIRE_START_DAY', data=df)\n",
    "plt.title('Number of Fire vs No Fire Days')\n",
    "plt.xlabel('Fire Started')\n",
    "plt.ylabel('Count')\n",
    "plt.show()"
   ]
  },
  {
   "cell_type": "code",
   "execution_count": 10,
   "id": "a29b4d12-9303-43ca-9015-ee79be36ed03",
   "metadata": {},
   "outputs": [
    {
     "data": {
      "image/png": "[encoded data removed]",
      "text/plain": [
       "<Figure size 600x400 with 1 Axes>"
      ]
     },
     "metadata": {},
     "output_type": "display_data"
    }
   ],
   "source": [
    "plt.figure(figsize=(6,4))\n",
    "sns.countplot(x='SEASON', hue='FIRE_START_DAY', data=df, palette='Set2')\n",
    "plt.title('Fire Occurrences per Season')\n",
    "plt.xlabel('Season')\n",
    "plt.ylabel('Count')\n",
    "plt.show()"
   ]
  },
  {
   "cell_type": "code",
   "execution_count": 11,
   "id": "8452ef20-8daa-4035-947a-09282b968781",
   "metadata": {},
   "outputs": [
    {
     "data": {
      "image/png": "[encoded data removed]",
      "text/plain": [
       "<Figure size 600x400 with 1 Axes>"
      ]
     },
     "metadata": {},
     "output_type": "display_data"
    },
    {
     "data": {
      "image/png": "[encoded data removed]",
      "text/plain": [
       "<Figure size 600x400 with 1 Axes>"
      ]
     },
     "metadata": {},
     "output_type": "display_data"
    },
    {
     "data": {
      "image/png": "[encoded data removed]",
      "text/plain": [
       "<Figure size 600x400 with 1 Axes>"
      ]
     },
     "metadata": {},
     "output_type": "display_data"
    },
    {
     "data": {
      "image/png": "[encoded data removed]",
      "text/plain": [
       "<Figure size 600x400 with 1 Axes>"
      ]
     },
     "metadata": {},
     "output_type": "display_data"
    },
    {
     "data": {
      "image/png": "[encoded data removed]",
      "text/plain": [
       "<Figure size 600x400 with 1 Axes>"
      ]
     },
     "metadata": {},
     "output_type": "display_data"
    },
    {
     "data": {
      "image/png": "[encoded data removed]",
      "text/plain": [
       "<Figure size 600x400 with 1 Axes>"
      ]
     },
     "metadata": {},
     "output_type": "display_data"
    }
   ],
   "source": [
    "numeric_features = ['PRECIPITATION','MAX_TEMP','MIN_TEMP','AVG_WIND_SPEED','TEMP_RANGE','WIND_TEMP_RATIO']\n",
    "\n",
    "for feature in numeric_features:\n",
    "    plt.figure(figsize=(6,4))\n",
    "    sns.histplot(df[feature], kde=True, color='skyblue', bins=30)\n",
    "    plt.title(f'Distribution of {feature}')\n",
    "    plt.show()"
   ]
  },
  {
   "cell_type": "markdown",
   "id": "e7ca50a3-b253-4abf-bdea-35f70cb13f97",
   "metadata": {},
   "source": [
    "Target Imbalance: Many more no-fire days than fire days → may need class balancing (e.g., SMOTE, class weights) for ML.\n",
    "\n",
    "Seasonal Pattern: Fire occurrence is higher in certain seasons → include SEASON as categorical feature.\n",
    "\n",
    "Numeric Features Spread: Features like PRECIPITATION, MAX_TEMP, AVG_WIND_SPEED, TEMP_RANGE show variability → likely predictive."
   ]
  },
  {
   "cell_type": "markdown",
   "id": "b1acce6c-342f-41b8-b02d-12ca014f012d",
   "metadata": {},
   "source": [
    "Traditional ML Classification:\n",
    "Random Forest Classifier\n",
    "XGBoost Classifier\n",
    "Logistic Regression\n",
    "\n",
    "\n",
    "Optional Bonus (Deep Learning)\n",
    "Feed-forward Neural Network for classification\n",
    "Input numeric features + one-hot encode categorical features\n",
    "\n",
    "Handle Imbalance:\n",
    "Use class_weight='balanced' in sklearn classifiers, or apply SMOTE on training data"
   ]
  },
  {
   "cell_type": "markdown",
   "id": "f417760c-b0ca-4c0f-b029-8ccddea16ef7",
   "metadata": {},
   "source": [
    "## Train & Evaluate ML"
   ]
  },
  {
   "cell_type": "code",
   "execution_count": 12,
   "id": "cc8e6c43-878c-48d7-a963-7aeb649f4594",
   "metadata": {},
   "outputs": [],
   "source": [
    "season_df = pd.get_dummies(df['SEASON'], prefix='SEASON')\n",
    "df_encoded = pd.concat([df.drop('SEASON', axis=1), season_df], axis=1)"
   ]
  },
  {
   "cell_type": "code",
   "execution_count": 13,
   "id": "58f42880-12ed-4727-a4e7-49ec02dcba95",
   "metadata": {},
   "outputs": [
    {
     "data": {
      "text/html": [
       "<div>\n",
       "<style scoped>\n",
       "    .dataframe tbody tr th:only-of-type {\n",
       "        vertical-align: middle;\n",
       "    }\n",
       "\n",
       "    .dataframe tbody tr th {\n",
       "        vertical-align: top;\n",
       "    }\n",
       "\n",
       "    .dataframe thead th {\n",
       "        text-align: right;\n",
       "    }\n",
       "</style>\n",
       "<table border=\"1\" class=\"dataframe\">\n",
       "  <thead>\n",
       "    <tr style=\"text-align: right;\">\n",
       "      <th></th>\n",
       "      <th>DATE</th>\n",
       "      <th>PRECIPITATION</th>\n",
       "      <th>MAX_TEMP</th>\n",
       "      <th>MIN_TEMP</th>\n",
       "      <th>AVG_WIND_SPEED</th>\n",
       "      <th>FIRE_START_DAY</th>\n",
       "      <th>YEAR</th>\n",
       "      <th>TEMP_RANGE</th>\n",
       "      <th>WIND_TEMP_RATIO</th>\n",
       "      <th>MONTH</th>\n",
       "      <th>LAGGED_PRECIPITATION</th>\n",
       "      <th>LAGGED_AVG_WIND_SPEED</th>\n",
       "      <th>DAY_OF_YEAR</th>\n",
       "      <th>DAY</th>\n",
       "      <th>SEASON_Fall</th>\n",
       "      <th>SEASON_Spring</th>\n",
       "      <th>SEASON_Summer</th>\n",
       "      <th>SEASON_Winter</th>\n",
       "    </tr>\n",
       "  </thead>\n",
       "  <tbody>\n",
       "    <tr>\n",
       "      <th>0</th>\n",
       "      <td>1984-01-01</td>\n",
       "      <td>0.0</td>\n",
       "      <td>79.0</td>\n",
       "      <td>51.0</td>\n",
       "      <td>4.70</td>\n",
       "      <td>False</td>\n",
       "      <td>1984</td>\n",
       "      <td>28.0</td>\n",
       "      <td>0.059494</td>\n",
       "      <td>1</td>\n",
       "      <td>0.0</td>\n",
       "      <td>4.700</td>\n",
       "      <td>1</td>\n",
       "      <td>1</td>\n",
       "      <td>False</td>\n",
       "      <td>False</td>\n",
       "      <td>False</td>\n",
       "      <td>True</td>\n",
       "    </tr>\n",
       "    <tr>\n",
       "      <th>1</th>\n",
       "      <td>1984-01-02</td>\n",
       "      <td>0.0</td>\n",
       "      <td>71.0</td>\n",
       "      <td>46.0</td>\n",
       "      <td>5.59</td>\n",
       "      <td>False</td>\n",
       "      <td>1984</td>\n",
       "      <td>25.0</td>\n",
       "      <td>0.078732</td>\n",
       "      <td>1</td>\n",
       "      <td>0.0</td>\n",
       "      <td>5.145</td>\n",
       "      <td>2</td>\n",
       "      <td>2</td>\n",
       "      <td>False</td>\n",
       "      <td>False</td>\n",
       "      <td>False</td>\n",
       "      <td>True</td>\n",
       "    </tr>\n",
       "    <tr>\n",
       "      <th>2</th>\n",
       "      <td>1984-01-03</td>\n",
       "      <td>0.0</td>\n",
       "      <td>70.0</td>\n",
       "      <td>47.0</td>\n",
       "      <td>5.37</td>\n",
       "      <td>False</td>\n",
       "      <td>1984</td>\n",
       "      <td>23.0</td>\n",
       "      <td>0.076714</td>\n",
       "      <td>1</td>\n",
       "      <td>0.0</td>\n",
       "      <td>5.220</td>\n",
       "      <td>3</td>\n",
       "      <td>3</td>\n",
       "      <td>False</td>\n",
       "      <td>False</td>\n",
       "      <td>False</td>\n",
       "      <td>True</td>\n",
       "    </tr>\n",
       "    <tr>\n",
       "      <th>3</th>\n",
       "      <td>1984-01-04</td>\n",
       "      <td>0.0</td>\n",
       "      <td>76.0</td>\n",
       "      <td>45.0</td>\n",
       "      <td>4.70</td>\n",
       "      <td>False</td>\n",
       "      <td>1984</td>\n",
       "      <td>31.0</td>\n",
       "      <td>0.061842</td>\n",
       "      <td>1</td>\n",
       "      <td>0.0</td>\n",
       "      <td>5.090</td>\n",
       "      <td>4</td>\n",
       "      <td>4</td>\n",
       "      <td>False</td>\n",
       "      <td>False</td>\n",
       "      <td>False</td>\n",
       "      <td>True</td>\n",
       "    </tr>\n",
       "    <tr>\n",
       "      <th>4</th>\n",
       "      <td>1984-01-05</td>\n",
       "      <td>0.0</td>\n",
       "      <td>74.0</td>\n",
       "      <td>49.0</td>\n",
       "      <td>5.14</td>\n",
       "      <td>False</td>\n",
       "      <td>1984</td>\n",
       "      <td>25.0</td>\n",
       "      <td>0.069459</td>\n",
       "      <td>1</td>\n",
       "      <td>0.0</td>\n",
       "      <td>5.100</td>\n",
       "      <td>5</td>\n",
       "      <td>5</td>\n",
       "      <td>False</td>\n",
       "      <td>False</td>\n",
       "      <td>False</td>\n",
       "      <td>True</td>\n",
       "    </tr>\n",
       "  </tbody>\n",
       "</table>\n",
       "</div>"
      ],
      "text/plain": [
       "        DATE  PRECIPITATION  MAX_TEMP  MIN_TEMP  AVG_WIND_SPEED  \\\n",
       "0 1984-01-01            0.0      79.0      51.0            4.70   \n",
       "1 1984-01-02            0.0      71.0      46.0            5.59   \n",
       "2 1984-01-03            0.0      70.0      47.0            5.37   \n",
       "3 1984-01-04            0.0      76.0      45.0            4.70   \n",
       "4 1984-01-05            0.0      74.0      49.0            5.14   \n",
       "\n",
       "   FIRE_START_DAY  YEAR  TEMP_RANGE  WIND_TEMP_RATIO  MONTH  \\\n",
       "0           False  1984        28.0         0.059494      1   \n",
       "1           False  1984        25.0         0.078732      1   \n",
       "2           False  1984        23.0         0.076714      1   \n",
       "3           False  1984        31.0         0.061842      1   \n",
       "4           False  1984        25.0         0.069459      1   \n",
       "\n",
       "   LAGGED_PRECIPITATION  LAGGED_AVG_WIND_SPEED  DAY_OF_YEAR  DAY  SEASON_Fall  \\\n",
       "0                   0.0                  4.700            1    1        False   \n",
       "1                   0.0                  5.145            2    2        False   \n",
       "2                   0.0                  5.220            3    3        False   \n",
       "3                   0.0                  5.090            4    4        False   \n",
       "4                   0.0                  5.100            5    5        False   \n",
       "\n",
       "   SEASON_Spring  SEASON_Summer  SEASON_Winter  \n",
       "0          False          False           True  \n",
       "1          False          False           True  \n",
       "2          False          False           True  \n",
       "3          False          False           True  \n",
       "4          False          False           True  "
      ]
     },
     "execution_count": 13,
     "metadata": {},
     "output_type": "execute_result"
    }
   ],
   "source": [
    "df_encoded.head()"
   ]
  },
  {
   "cell_type": "code",
   "execution_count": 14,
   "id": "8c798758-deb3-47a7-ba3a-fdbe3efc6aa8",
   "metadata": {},
   "outputs": [],
   "source": [
    "y = df_encoded[\"FIRE_START_DAY\"]\n",
    "X = df_encoded.drop(columns=[\"FIRE_START_DAY\", \"DATE\", \"YEAR\", \"DAY\", \"MONTH\", \"DAY_OF_YEAR\"])  "
   ]
  },
  {
   "cell_type": "code",
   "execution_count": 16,
   "id": "bfd7364b-66dd-4086-b4a7-1ac0e174c031",
   "metadata": {},
   "outputs": [],
   "source": [
    "X_train, X_test, y_train, y_test = train_test_split(X, y, test_size=0.2, stratify=y, random_state=42)"
   ]
  },
  {
   "cell_type": "markdown",
   "id": "0fc91d5e-1299-4ae8-9170-6202ff7f1104",
   "metadata": {},
   "source": [
    "### Train Random Forest"
   ]
  },
  {
   "cell_type": "code",
   "execution_count": 17,
   "id": "936acc6d-b617-48d2-b3a0-82be0fd4c5eb",
   "metadata": {},
   "outputs": [],
   "source": [
    "from sklearn.ensemble import RandomForestClassifier\n",
    "from sklearn.model_selection import GridSearchCV, StratifiedKFold"
   ]
  },
  {
   "cell_type": "code",
   "execution_count": 18,
   "id": "4521b9aa-0118-4b89-912d-56e7c62e09c4",
   "metadata": {},
   "outputs": [],
   "source": [
    "rf = RandomForestClassifier(random_state=42, class_weight='balanced')"
   ]
  },
  {
   "cell_type": "code",
   "execution_count": 19,
   "id": "30406b10-e31b-4554-8e7d-1d8fdcb2d19a",
   "metadata": {},
   "outputs": [],
   "source": [
    "rf_param_grid = {\n",
    "    'n_estimators': [100, 200],\n",
    "    'max_depth': [None, 10, 20],\n",
    "    'min_samples_split': [2, 5]\n",
    "}"
   ]
  },
  {
   "cell_type": "code",
   "execution_count": 20,
   "id": "64e78d18-c0f3-4294-b81f-0a202016b29b",
   "metadata": {},
   "outputs": [],
   "source": [
    "kf = StratifiedKFold(n_splits=5, shuffle=True, random_state=42)"
   ]
  },
  {
   "cell_type": "code",
   "execution_count": 21,
   "id": "5c2db9f2-6754-4953-baae-303bfa5b1440",
   "metadata": {},
   "outputs": [
    {
     "name": "stdout",
     "output_type": "stream",
     "text": [
      "Random Forest best params: {'max_depth': 20, 'min_samples_split': 5, 'n_estimators': 200}\n"
     ]
    }
   ],
   "source": [
    "rf_grid = GridSearchCV(rf, rf_param_grid, cv=kf, scoring='accuracy', n_jobs=-1)\n",
    "rf_grid.fit(X_train, y_train)\n",
    "\n",
    "rf_best = rf_grid.best_estimator_\n",
    "print(\"Random Forest best params:\", rf_grid.best_params_)"
   ]
  },
  {
   "cell_type": "markdown",
   "id": "e1dba297-0e46-4810-a4cc-740e3f52b8b7",
   "metadata": {},
   "source": [
    "### Train XGBoost"
   ]
  },
  {
   "cell_type": "code",
   "execution_count": 22,
   "id": "56157d45-f7d4-4a3b-91bc-dd22fe20ea04",
   "metadata": {},
   "outputs": [],
   "source": [
    "import xgboost as xgb"
   ]
  },
  {
   "cell_type": "code",
   "execution_count": 23,
   "id": "9b9a6dd9-65cb-4a89-ac56-aaa5e04a4f17",
   "metadata": {},
   "outputs": [],
   "source": [
    "xgb_model = xgb.XGBClassifier(\n",
    "    eval_metric='logloss', \n",
    "    random_state=42,\n",
    "    scale_pos_weight=(y_train==0).sum()/(y_train==1).sum()\n",
    ")"
   ]
  },
  {
   "cell_type": "code",
   "execution_count": 24,
   "id": "6a6fe5d6-1b98-419e-b74e-ebbd14908018",
   "metadata": {},
   "outputs": [],
   "source": [
    "xgb_param_grid = {\n",
    "    'n_estimators': [100, 200],\n",
    "    'max_depth': [3, 5, 7],\n",
    "    'learning_rate': [0.01, 0.1],\n",
    "    'subsample': [0.8, 1]\n",
    "}"
   ]
  },
  {
   "cell_type": "code",
   "execution_count": 25,
   "id": "f117f294-a602-449d-8b86-1b7399a8cd14",
   "metadata": {},
   "outputs": [
    {
     "name": "stdout",
     "output_type": "stream",
     "text": [
      "XGBoost best params: {'learning_rate': 0.1, 'max_depth': 7, 'n_estimators': 100, 'subsample': 1}\n"
     ]
    }
   ],
   "source": [
    "xgb_grid = GridSearchCV(xgb_model, xgb_param_grid, cv=kf, scoring='accuracy', n_jobs=-1)\n",
    "xgb_grid.fit(X_train, y_train)\n",
    "\n",
    "xgb_best = xgb_grid.best_estimator_\n",
    "print(\"XGBoost best params:\", xgb_grid.best_params_)"
   ]
  },
  {
   "cell_type": "markdown",
   "id": "03f57fa2-5827-489b-880d-3ae0a67c27d0",
   "metadata": {},
   "source": [
    "### Evaluate For best one"
   ]
  },
  {
   "cell_type": "code",
   "execution_count": 26,
   "id": "4595ca25-e97f-4216-aff5-77dc1f995052",
   "metadata": {},
   "outputs": [],
   "source": [
    "from sklearn.metrics import accuracy_score, classification_report, confusion_matrix"
   ]
  },
  {
   "cell_type": "code",
   "execution_count": 27,
   "id": "18a7ff00-b74a-4206-9d60-146b59a4a983",
   "metadata": {},
   "outputs": [],
   "source": [
    "labels = ['No Fire', 'Fire']"
   ]
  },
  {
   "cell_type": "code",
   "execution_count": 28,
   "id": "03c7dada-19ac-4985-8589-64d2b1cc4e4a",
   "metadata": {},
   "outputs": [
    {
     "name": "stdout",
     "output_type": "stream",
     "text": [
      "Random Forest Accuracy: 0.7565043362241495\n",
      "\n",
      "Classification Report (RF):\n",
      "               precision    recall  f1-score   support\n",
      "\n",
      "       False       0.82      0.81      0.82      2004\n",
      "        True       0.63      0.65      0.64       994\n",
      "\n",
      "    accuracy                           0.76      2998\n",
      "   macro avg       0.73      0.73      0.73      2998\n",
      "weighted avg       0.76      0.76      0.76      2998\n",
      "\n"
     ]
    }
   ],
   "source": [
    "y_pred_rf = rf_best.predict(X_test)\n",
    "rf_acc = accuracy_score(y_test, y_pred_rf)\n",
    "print(\"Random Forest Accuracy:\", rf_acc)\n",
    "print(\"\\nClassification Report (RF):\\n\", classification_report(y_test, y_pred_rf))"
   ]
  },
  {
   "cell_type": "code",
   "execution_count": 29,
   "id": "e9588bfc-fc44-4eb5-8bf5-9569c7b6c14b",
   "metadata": {},
   "outputs": [
    {
     "data": {
      "image/png": "[encoded data removed]",
      "text/plain": [
       "<Figure size 500x400 with 2 Axes>"
      ]
     },
     "metadata": {},
     "output_type": "display_data"
    }
   ],
   "source": [
    "cm_rf = confusion_matrix(y_test, y_pred_rf)\n",
    "plt.figure(figsize=(5,4))\n",
    "sns.heatmap(cm_rf, annot=True, fmt='d', cmap='Blues', xticklabels=labels, yticklabels=labels)\n",
    "plt.title(\"Random Forest Confusion Matrix\")\n",
    "plt.xlabel(\"Predicted\")\n",
    "plt.ylabel(\"Actual\")\n",
    "plt.show()"
   ]
  },
  {
   "cell_type": "code",
   "execution_count": 30,
   "id": "d7312aca-d201-4d82-a5ac-67f2be70ce70",
   "metadata": {},
   "outputs": [
    {
     "name": "stdout",
     "output_type": "stream",
     "text": [
      "XGBoost Accuracy: 0.7498332221480988\n",
      "\n",
      "Classification Report (XGB):\n",
      "               precision    recall  f1-score   support\n",
      "\n",
      "       False       0.86      0.75      0.80      2004\n",
      "        True       0.60      0.76      0.67       994\n",
      "\n",
      "    accuracy                           0.75      2998\n",
      "   macro avg       0.73      0.75      0.73      2998\n",
      "weighted avg       0.77      0.75      0.76      2998\n",
      "\n"
     ]
    }
   ],
   "source": [
    "y_pred_xgb = xgb_best.predict(X_test)\n",
    "xgb_acc = accuracy_score(y_test, y_pred_xgb)\n",
    "print(\"XGBoost Accuracy:\", xgb_acc)\n",
    "print(\"\\nClassification Report (XGB):\\n\", classification_report(y_test, y_pred_xgb))"
   ]
  },
  {
   "cell_type": "code",
   "execution_count": 31,
   "id": "fdb68a71-7959-4394-a001-485282515d7d",
   "metadata": {},
   "outputs": [
    {
     "data": {
      "image/png": "[encoded data removed]",
      "text/plain": [
       "<Figure size 500x400 with 2 Axes>"
      ]
     },
     "metadata": {},
     "output_type": "display_data"
    }
   ],
   "source": [
    "cm_xgb = confusion_matrix(y_test, y_pred_xgb)\n",
    "plt.figure(figsize=(5,4))\n",
    "sns.heatmap(cm_xgb, annot=True, fmt='d', cmap='Greens' ,xticklabels=labels, yticklabels=labels)\n",
    "plt.title(\"XGBoost Confusion Matrix\")\n",
    "plt.xlabel(\"Predicted\")\n",
    "plt.ylabel(\"Actual\")\n",
    "plt.show()"
   ]
  },
  {
   "cell_type": "markdown",
   "id": "1b13795c-4e2b-4f96-8f6b-e35a39a23af1",
   "metadata": {},
   "source": [
    "### Save the best one"
   ]
  },
  {
   "cell_type": "code",
   "execution_count": 32,
   "id": "e3d050b9-e9bc-4357-b870-609ead511f3b",
   "metadata": {},
   "outputs": [],
   "source": [
    "import joblib"
   ]
  },
  {
   "cell_type": "code",
   "execution_count": 33,
   "id": "b3c8673b-35f9-4e2f-9c2a-c918fe7d8022",
   "metadata": {},
   "outputs": [
    {
     "name": "stdout",
     "output_type": "stream",
     "text": [
      "Best model: Random Forest\n"
     ]
    }
   ],
   "source": [
    "if rf_acc >= xgb_acc:\n",
    "    best_model = rf_best\n",
    "    print(\"Best model: Random Forest\")\n",
    "else:\n",
    "    best_model = xgb_best\n",
    "    print(\"Best model: XGBoost\")"
   ]
  },
  {
   "cell_type": "code",
   "execution_count": 34,
   "id": "e2518dcd-3d94-408e-83ea-faa136155d20",
   "metadata": {},
   "outputs": [
    {
     "data": {
      "text/plain": [
       "['best_fire_model.pkl']"
      ]
     },
     "execution_count": 34,
     "metadata": {},
     "output_type": "execute_result"
    }
   ],
   "source": [
    "best_model.fit(X, y)\n",
    "joblib.dump(best_model, \"best_fire_model.pkl\")"
   ]
  },
  {
   "cell_type": "code",
   "execution_count": 35,
   "id": "b3ecddbb-7c47-4c02-b985-225efbea1f9a",
   "metadata": {},
   "outputs": [
    {
     "name": "stdout",
     "output_type": "stream",
     "text": [
      "Prediction for first row: [False]\n"
     ]
    }
   ],
   "source": [
    "sample = X.iloc[0:1]  # first row\n",
    "pred = best_model.predict(sample)\n",
    "print(\"Prediction for first row:\", pred)"
   ]
  },
  {
   "cell_type": "markdown",
   "id": "1463cb32-33e6-42c5-8977-7666a755efaf",
   "metadata": {},
   "source": [
    "## NOW FOR DEEP LEARNING"
   ]
  },
  {
   "cell_type": "code",
   "execution_count": 50,
   "id": "c6f4d43e-9206-49e3-aee2-f93f34a4e151",
   "metadata": {},
   "outputs": [],
   "source": [
    "import torch\n",
    "import torch.nn as nn\n",
    "from torch.utils.data import DataLoader, TensorDataset\n",
    "from sklearn.preprocessing import StandardScaler\n",
    "from sklearn.model_selection import train_test_split"
   ]
  },
  {
   "cell_type": "code",
   "execution_count": 51,
   "id": "49b9d140-67cb-4b15-8bd2-9375ee89a4bf",
   "metadata": {},
   "outputs": [
    {
     "name": "stdout",
     "output_type": "stream",
     "text": [
      "Using device: cuda\n"
     ]
    }
   ],
   "source": [
    "device = torch.device(\"cuda\" if torch.cuda.is_available() else \"cpu\")\n",
    "print(\"Using device:\", device)"
   ]
  },
  {
   "cell_type": "code",
   "execution_count": 52,
   "id": "29b39e5a-9128-4489-b9ca-43ec24f39011",
   "metadata": {},
   "outputs": [],
   "source": [
    "X_dl = X.copy()\n",
    "y_dl = y.copy()"
   ]
  },
  {
   "cell_type": "code",
   "execution_count": 53,
   "id": "8cdf4e40-fa5f-4958-86ca-4bd2abd40014",
   "metadata": {},
   "outputs": [],
   "source": [
    "scaler_dl = StandardScaler()\n",
    "X_dl_scaled = scaler_dl.fit_transform(X_dl)"
   ]
  },
  {
   "cell_type": "code",
   "execution_count": 54,
   "id": "9ea552ab-487f-47e4-be8c-458567d5021f",
   "metadata": {},
   "outputs": [],
   "source": [
    "X_train_dl, X_test_dl, y_train_dl, y_test_dl = train_test_split(X_dl_scaled, y_dl, test_size=0.2, random_state=42)"
   ]
  },
  {
   "cell_type": "code",
   "execution_count": 55,
   "id": "185fad34-0126-4ea0-ae2f-3dda22a49b78",
   "metadata": {},
   "outputs": [],
   "source": [
    "X_train_tensor_dl = torch.tensor(X_train_dl, dtype=torch.float32).to(device)\n",
    "X_test_tensor_dl = torch.tensor(X_test_dl, dtype=torch.float32).to(device)\n",
    "y_train_tensor_dl = torch.tensor(y_train_dl.values, dtype=torch.float32).view(-1,1).to(device)\n",
    "y_test_tensor_dl = torch.tensor(y_test_dl.values, dtype=torch.float32).view(-1,1).to(device)"
   ]
  },
  {
   "cell_type": "code",
   "execution_count": 56,
   "id": "ab36656e-d120-4b63-b97e-d56e16441d97",
   "metadata": {},
   "outputs": [],
   "source": [
    "train_dataset_dl = TensorDataset(X_train_tensor_dl, y_train_tensor_dl)\n",
    "train_loader_dl = DataLoader(train_dataset_dl, batch_size=32, shuffle=True)"
   ]
  },
  {
   "cell_type": "code",
   "execution_count": 57,
   "id": "880d610e-cf83-458f-8292-39f5ad48f293",
   "metadata": {},
   "outputs": [],
   "source": [
    "class FireNN_DL(nn.Module):\n",
    "    def __init__(self, input_dim):\n",
    "        super(FireNN_DL, self).__init__()\n",
    "        self.net = nn.Sequential(\n",
    "            nn.Linear(input_dim, 32),\n",
    "            nn.ReLU(),\n",
    "            nn.Linear(32, 16),\n",
    "            nn.ReLU(),\n",
    "            nn.Linear(16, 1),\n",
    "            nn.Sigmoid()\n",
    "        )\n",
    "\n",
    "    def forward(self, x):\n",
    "        return self.net(x)\n",
    "\n",
    "model_dl = FireNN_DL(X_train_dl.shape[1]).to(device)"
   ]
  },
  {
   "cell_type": "code",
   "execution_count": 58,
   "id": "f7851f22-8bb4-4049-852a-a01bd13c5497",
   "metadata": {},
   "outputs": [],
   "source": [
    "criterion_dl = nn.BCELoss()\n",
    "optimizer_dl = torch.optim.Adam(model_dl.parameters(), lr=0.001)"
   ]
  },
  {
   "cell_type": "code",
   "execution_count": 59,
   "id": "f08c530a-3b54-4f3d-b7db-0cf56b6f8a35",
   "metadata": {},
   "outputs": [
    {
     "name": "stdout",
     "output_type": "stream",
     "text": [
      "Epoch 10/50, Loss: 0.6127\n",
      "Epoch 20/50, Loss: 0.2684\n",
      "Epoch 30/50, Loss: 0.2939\n",
      "Epoch 40/50, Loss: 0.4867\n",
      "Epoch 50/50, Loss: 0.3412\n"
     ]
    }
   ],
   "source": [
    "epochs = 50\n",
    "for epoch in range(epochs):\n",
    "    for xb, yb in train_loader_dl:\n",
    "        optimizer_dl.zero_grad()\n",
    "        pred = model_dl(xb)\n",
    "        loss = criterion_dl(pred, yb)\n",
    "        loss.backward()\n",
    "        optimizer_dl.step()\n",
    "    if (epoch+1) % 10 == 0:\n",
    "        print(f\"Epoch {epoch+1}/{epochs}, Loss: {loss.item():.4f}\")"
   ]
  },
  {
   "cell_type": "code",
   "execution_count": 60,
   "id": "b827b61c-1b74-4299-9ea8-4a45adf942b3",
   "metadata": {},
   "outputs": [
    {
     "name": "stdout",
     "output_type": "stream",
     "text": [
      "PyTorch DL Test Accuracy: 0.7688459157943726\n"
     ]
    }
   ],
   "source": [
    "with torch.no_grad():\n",
    "    test_pred_dl = model_dl(X_test_tensor_dl)\n",
    "    predicted_classes_dl = (test_pred_dl >= 0.5).float()\n",
    "    accuracy_dl = (predicted_classes_dl == y_test_tensor_dl).float().mean()\n",
    "    print(\"PyTorch DL Test Accuracy:\", accuracy_dl.item())"
   ]
  },
  {
   "cell_type": "code",
   "execution_count": 61,
   "id": "3a488f05-2910-43be-aacf-5c804f476689",
   "metadata": {},
   "outputs": [
    {
     "name": "stdout",
     "output_type": "stream",
     "text": [
      "[Full Data] Epoch 10/50, Loss: 0.5193\n",
      "[Full Data] Epoch 20/50, Loss: 0.3791\n",
      "[Full Data] Epoch 30/50, Loss: 0.6056\n",
      "[Full Data] Epoch 40/50, Loss: 0.4705\n",
      "[Full Data] Epoch 50/50, Loss: 0.5983\n"
     ]
    }
   ],
   "source": [
    "# Convert full dataset to tensor and move to device\n",
    "X_full_tensor = torch.tensor(scaler_dl.transform(X_dl), dtype=torch.float32).to(device)\n",
    "y_full_tensor = torch.tensor(y_dl.values, dtype=torch.float32).view(-1,1).to(device)\n",
    "\n",
    "full_dataset = TensorDataset(X_full_tensor, y_full_tensor)\n",
    "full_loader = DataLoader(full_dataset, batch_size=32, shuffle=True)\n",
    "\n",
    "# Fresh model\n",
    "model_full_dl = FireNN_DL(X_full_tensor.shape[1]).to(device)\n",
    "criterion_full = nn.BCELoss()\n",
    "optimizer_full = torch.optim.Adam(model_full_dl.parameters(), lr=0.001)\n",
    "\n",
    "# Train on full data\n",
    "for epoch in range(epochs):\n",
    "    for xb, yb in full_loader:\n",
    "        optimizer_full.zero_grad()\n",
    "        pred = model_full_dl(xb)\n",
    "        loss = criterion_full(pred, yb)\n",
    "        loss.backward()\n",
    "        optimizer_full.step()\n",
    "    if (epoch+1) % 10 == 0:\n",
    "        print(f\"[Full Data] Epoch {epoch+1}/{epochs}, Loss: {loss.item():.4f}\")"
   ]
  },
  {
   "cell_type": "code",
   "execution_count": 62,
   "id": "6e9a725f-75d7-4bb2-bc4c-dd65e8fb32db",
   "metadata": {},
   "outputs": [
    {
     "name": "stdout",
     "output_type": "stream",
     "text": [
      "Full dataset model and scaler saved!\n"
     ]
    }
   ],
   "source": [
    "# Save model and scaler\n",
    "torch.save(model_full_dl.state_dict(), \"best_fire_model_dl.pth\")\n",
    "joblib.dump(scaler_dl, \"scaler_dl.pkl\")\n",
    "print(\"Full dataset model and scaler saved!\")"
   ]
  },
  {
   "cell_type": "markdown",
   "id": "4d638cdf-3d2b-48c9-a229-7a0d9fb5b0bf",
   "metadata": {},
   "source": [
    "## Evaluation for Streamlit"
   ]
  },
  {
   "cell_type": "code",
   "execution_count": 37,
   "id": "7c5c8a8d-6edc-4639-95f7-6bc34a209577",
   "metadata": {},
   "outputs": [
    {
     "name": "stdout",
     "output_type": "stream",
     "text": [
      "LAGGED_PRECIPITATION: Min = 0.0, Max = 8.18\n",
      "LAGGED_AVG_WIND_SPEED: Min = 3.2271428571428573, Max = 13.932857142857143\n"
     ]
    }
   ],
   "source": [
    "min_precip = df_encoded['LAGGED_PRECIPITATION'].min()\n",
    "max_precip = df_encoded['LAGGED_PRECIPITATION'].max()\n",
    "\n",
    "min_wind = df_encoded['LAGGED_AVG_WIND_SPEED'].min()\n",
    "max_wind = df_encoded['LAGGED_AVG_WIND_SPEED'].max()\n",
    "\n",
    "print(f\"LAGGED_PRECIPITATION: Min = {min_precip}, Max = {max_precip}\")\n",
    "print(f\"LAGGED_AVG_WIND_SPEED: Min = {min_wind}, Max = {max_wind}\")"
   ]
  },
  {
   "cell_type": "code",
   "execution_count": 38,
   "id": "5e1e41e8-140b-495b-ae09-b76dc887082c",
   "metadata": {},
   "outputs": [
    {
     "data": {
      "text/plain": [
       "np.float64(106.0)"
      ]
     },
     "execution_count": 38,
     "metadata": {},
     "output_type": "execute_result"
    }
   ],
   "source": [
    "df_encoded['MAX_TEMP'].max()"
   ]
  },
  {
   "cell_type": "code",
   "execution_count": 39,
   "id": "c4649eea-253e-4b5d-bfc2-8cbe379a5dce",
   "metadata": {},
   "outputs": [
    {
     "data": {
      "text/plain": [
       "np.float64(77.0)"
      ]
     },
     "execution_count": 39,
     "metadata": {},
     "output_type": "execute_result"
    }
   ],
   "source": [
    "df_encoded['MIN_TEMP'].max()"
   ]
  },
  {
   "cell_type": "code",
   "execution_count": 40,
   "id": "4ccbb3c7-cfd3-4bcc-b37f-e7a27fb6200a",
   "metadata": {},
   "outputs": [
    {
     "data": {
      "text/html": [
       "<div>\n",
       "<style scoped>\n",
       "    .dataframe tbody tr th:only-of-type {\n",
       "        vertical-align: middle;\n",
       "    }\n",
       "\n",
       "    .dataframe tbody tr th {\n",
       "        vertical-align: top;\n",
       "    }\n",
       "\n",
       "    .dataframe thead th {\n",
       "        text-align: right;\n",
       "    }\n",
       "</style>\n",
       "<table border=\"1\" class=\"dataframe\">\n",
       "  <thead>\n",
       "    <tr style=\"text-align: right;\">\n",
       "      <th></th>\n",
       "      <th>DATE</th>\n",
       "      <th>PRECIPITATION</th>\n",
       "      <th>MAX_TEMP</th>\n",
       "      <th>MIN_TEMP</th>\n",
       "      <th>AVG_WIND_SPEED</th>\n",
       "      <th>FIRE_START_DAY</th>\n",
       "      <th>YEAR</th>\n",
       "      <th>TEMP_RANGE</th>\n",
       "      <th>WIND_TEMP_RATIO</th>\n",
       "      <th>MONTH</th>\n",
       "      <th>LAGGED_PRECIPITATION</th>\n",
       "      <th>LAGGED_AVG_WIND_SPEED</th>\n",
       "      <th>DAY_OF_YEAR</th>\n",
       "      <th>DAY</th>\n",
       "      <th>SEASON_Fall</th>\n",
       "      <th>SEASON_Spring</th>\n",
       "      <th>SEASON_Summer</th>\n",
       "      <th>SEASON_Winter</th>\n",
       "    </tr>\n",
       "  </thead>\n",
       "  <tbody>\n",
       "    <tr>\n",
       "      <th>26</th>\n",
       "      <td>1984-01-27</td>\n",
       "      <td>0.0</td>\n",
       "      <td>79.0</td>\n",
       "      <td>57.0</td>\n",
       "      <td>8.50</td>\n",
       "      <td>True</td>\n",
       "      <td>1984</td>\n",
       "      <td>22.0</td>\n",
       "      <td>0.107595</td>\n",
       "      <td>1</td>\n",
       "      <td>0.00</td>\n",
       "      <td>7.222857</td>\n",
       "      <td>27</td>\n",
       "      <td>27</td>\n",
       "      <td>False</td>\n",
       "      <td>False</td>\n",
       "      <td>False</td>\n",
       "      <td>True</td>\n",
       "    </tr>\n",
       "    <tr>\n",
       "      <th>79</th>\n",
       "      <td>1984-03-20</td>\n",
       "      <td>0.0</td>\n",
       "      <td>76.0</td>\n",
       "      <td>58.0</td>\n",
       "      <td>6.71</td>\n",
       "      <td>True</td>\n",
       "      <td>1984</td>\n",
       "      <td>18.0</td>\n",
       "      <td>0.088289</td>\n",
       "      <td>3</td>\n",
       "      <td>0.14</td>\n",
       "      <td>8.691429</td>\n",
       "      <td>80</td>\n",
       "      <td>20</td>\n",
       "      <td>False</td>\n",
       "      <td>True</td>\n",
       "      <td>False</td>\n",
       "      <td>False</td>\n",
       "    </tr>\n",
       "    <tr>\n",
       "      <th>82</th>\n",
       "      <td>1984-03-23</td>\n",
       "      <td>0.0</td>\n",
       "      <td>77.0</td>\n",
       "      <td>54.0</td>\n",
       "      <td>7.38</td>\n",
       "      <td>True</td>\n",
       "      <td>1984</td>\n",
       "      <td>23.0</td>\n",
       "      <td>0.095844</td>\n",
       "      <td>3</td>\n",
       "      <td>0.00</td>\n",
       "      <td>7.477143</td>\n",
       "      <td>83</td>\n",
       "      <td>23</td>\n",
       "      <td>False</td>\n",
       "      <td>True</td>\n",
       "      <td>False</td>\n",
       "      <td>False</td>\n",
       "    </tr>\n",
       "    <tr>\n",
       "      <th>88</th>\n",
       "      <td>1984-03-29</td>\n",
       "      <td>0.0</td>\n",
       "      <td>71.0</td>\n",
       "      <td>53.0</td>\n",
       "      <td>11.41</td>\n",
       "      <td>True</td>\n",
       "      <td>1984</td>\n",
       "      <td>18.0</td>\n",
       "      <td>0.160704</td>\n",
       "      <td>3</td>\n",
       "      <td>0.00</td>\n",
       "      <td>7.988571</td>\n",
       "      <td>89</td>\n",
       "      <td>29</td>\n",
       "      <td>False</td>\n",
       "      <td>True</td>\n",
       "      <td>False</td>\n",
       "      <td>False</td>\n",
       "    </tr>\n",
       "    <tr>\n",
       "      <th>102</th>\n",
       "      <td>1984-04-12</td>\n",
       "      <td>0.0</td>\n",
       "      <td>73.0</td>\n",
       "      <td>53.0</td>\n",
       "      <td>5.14</td>\n",
       "      <td>True</td>\n",
       "      <td>1984</td>\n",
       "      <td>20.0</td>\n",
       "      <td>0.070411</td>\n",
       "      <td>4</td>\n",
       "      <td>0.87</td>\n",
       "      <td>7.347143</td>\n",
       "      <td>103</td>\n",
       "      <td>12</td>\n",
       "      <td>False</td>\n",
       "      <td>True</td>\n",
       "      <td>False</td>\n",
       "      <td>False</td>\n",
       "    </tr>\n",
       "    <tr>\n",
       "      <th>...</th>\n",
       "      <td>...</td>\n",
       "      <td>...</td>\n",
       "      <td>...</td>\n",
       "      <td>...</td>\n",
       "      <td>...</td>\n",
       "      <td>...</td>\n",
       "      <td>...</td>\n",
       "      <td>...</td>\n",
       "      <td>...</td>\n",
       "      <td>...</td>\n",
       "      <td>...</td>\n",
       "      <td>...</td>\n",
       "      <td>...</td>\n",
       "      <td>...</td>\n",
       "      <td>...</td>\n",
       "      <td>...</td>\n",
       "      <td>...</td>\n",
       "      <td>...</td>\n",
       "    </tr>\n",
       "    <tr>\n",
       "      <th>14583</th>\n",
       "      <td>2023-12-05</td>\n",
       "      <td>0.0</td>\n",
       "      <td>83.0</td>\n",
       "      <td>54.0</td>\n",
       "      <td>5.37</td>\n",
       "      <td>True</td>\n",
       "      <td>2023</td>\n",
       "      <td>29.0</td>\n",
       "      <td>0.064699</td>\n",
       "      <td>12</td>\n",
       "      <td>0.00</td>\n",
       "      <td>6.071429</td>\n",
       "      <td>339</td>\n",
       "      <td>5</td>\n",
       "      <td>False</td>\n",
       "      <td>False</td>\n",
       "      <td>False</td>\n",
       "      <td>True</td>\n",
       "    </tr>\n",
       "    <tr>\n",
       "      <th>14587</th>\n",
       "      <td>2023-12-09</td>\n",
       "      <td>0.0</td>\n",
       "      <td>73.0</td>\n",
       "      <td>49.0</td>\n",
       "      <td>3.13</td>\n",
       "      <td>True</td>\n",
       "      <td>2023</td>\n",
       "      <td>24.0</td>\n",
       "      <td>0.042877</td>\n",
       "      <td>12</td>\n",
       "      <td>0.00</td>\n",
       "      <td>5.305714</td>\n",
       "      <td>343</td>\n",
       "      <td>9</td>\n",
       "      <td>False</td>\n",
       "      <td>False</td>\n",
       "      <td>False</td>\n",
       "      <td>True</td>\n",
       "    </tr>\n",
       "    <tr>\n",
       "      <th>14593</th>\n",
       "      <td>2023-12-15</td>\n",
       "      <td>0.0</td>\n",
       "      <td>80.0</td>\n",
       "      <td>52.0</td>\n",
       "      <td>6.04</td>\n",
       "      <td>True</td>\n",
       "      <td>2023</td>\n",
       "      <td>28.0</td>\n",
       "      <td>0.075500</td>\n",
       "      <td>12</td>\n",
       "      <td>0.00</td>\n",
       "      <td>5.400000</td>\n",
       "      <td>349</td>\n",
       "      <td>15</td>\n",
       "      <td>False</td>\n",
       "      <td>False</td>\n",
       "      <td>False</td>\n",
       "      <td>True</td>\n",
       "    </tr>\n",
       "    <tr>\n",
       "      <th>14594</th>\n",
       "      <td>2023-12-16</td>\n",
       "      <td>0.0</td>\n",
       "      <td>79.0</td>\n",
       "      <td>56.0</td>\n",
       "      <td>6.49</td>\n",
       "      <td>True</td>\n",
       "      <td>2023</td>\n",
       "      <td>23.0</td>\n",
       "      <td>0.082152</td>\n",
       "      <td>12</td>\n",
       "      <td>0.00</td>\n",
       "      <td>5.880000</td>\n",
       "      <td>350</td>\n",
       "      <td>16</td>\n",
       "      <td>False</td>\n",
       "      <td>False</td>\n",
       "      <td>False</td>\n",
       "      <td>True</td>\n",
       "    </tr>\n",
       "    <tr>\n",
       "      <th>14600</th>\n",
       "      <td>2023-12-22</td>\n",
       "      <td>0.5</td>\n",
       "      <td>69.0</td>\n",
       "      <td>57.0</td>\n",
       "      <td>8.05</td>\n",
       "      <td>True</td>\n",
       "      <td>2023</td>\n",
       "      <td>12.0</td>\n",
       "      <td>0.116667</td>\n",
       "      <td>12</td>\n",
       "      <td>2.95</td>\n",
       "      <td>6.774286</td>\n",
       "      <td>356</td>\n",
       "      <td>22</td>\n",
       "      <td>False</td>\n",
       "      <td>False</td>\n",
       "      <td>False</td>\n",
       "      <td>True</td>\n",
       "    </tr>\n",
       "  </tbody>\n",
       "</table>\n",
       "<p>4971 rows × 18 columns</p>\n",
       "</div>"
      ],
      "text/plain": [
       "            DATE  PRECIPITATION  MAX_TEMP  MIN_TEMP  AVG_WIND_SPEED  \\\n",
       "26    1984-01-27            0.0      79.0      57.0            8.50   \n",
       "79    1984-03-20            0.0      76.0      58.0            6.71   \n",
       "82    1984-03-23            0.0      77.0      54.0            7.38   \n",
       "88    1984-03-29            0.0      71.0      53.0           11.41   \n",
       "102   1984-04-12            0.0      73.0      53.0            5.14   \n",
       "...          ...            ...       ...       ...             ...   \n",
       "14583 2023-12-05            0.0      83.0      54.0            5.37   \n",
       "14587 2023-12-09            0.0      73.0      49.0            3.13   \n",
       "14593 2023-12-15            0.0      80.0      52.0            6.04   \n",
       "14594 2023-12-16            0.0      79.0      56.0            6.49   \n",
       "14600 2023-12-22            0.5      69.0      57.0            8.05   \n",
       "\n",
       "       FIRE_START_DAY  YEAR  TEMP_RANGE  WIND_TEMP_RATIO  MONTH  \\\n",
       "26               True  1984        22.0         0.107595      1   \n",
       "79               True  1984        18.0         0.088289      3   \n",
       "82               True  1984        23.0         0.095844      3   \n",
       "88               True  1984        18.0         0.160704      3   \n",
       "102              True  1984        20.0         0.070411      4   \n",
       "...               ...   ...         ...              ...    ...   \n",
       "14583            True  2023        29.0         0.064699     12   \n",
       "14587            True  2023        24.0         0.042877     12   \n",
       "14593            True  2023        28.0         0.075500     12   \n",
       "14594            True  2023        23.0         0.082152     12   \n",
       "14600            True  2023        12.0         0.116667     12   \n",
       "\n",
       "       LAGGED_PRECIPITATION  LAGGED_AVG_WIND_SPEED  DAY_OF_YEAR  DAY  \\\n",
       "26                     0.00               7.222857           27   27   \n",
       "79                     0.14               8.691429           80   20   \n",
       "82                     0.00               7.477143           83   23   \n",
       "88                     0.00               7.988571           89   29   \n",
       "102                    0.87               7.347143          103   12   \n",
       "...                     ...                    ...          ...  ...   \n",
       "14583                  0.00               6.071429          339    5   \n",
       "14587                  0.00               5.305714          343    9   \n",
       "14593                  0.00               5.400000          349   15   \n",
       "14594                  0.00               5.880000          350   16   \n",
       "14600                  2.95               6.774286          356   22   \n",
       "\n",
       "       SEASON_Fall  SEASON_Spring  SEASON_Summer  SEASON_Winter  \n",
       "26           False          False          False           True  \n",
       "79           False           True          False          False  \n",
       "82           False           True          False          False  \n",
       "88           False           True          False          False  \n",
       "102          False           True          False          False  \n",
       "...            ...            ...            ...            ...  \n",
       "14583        False          False          False           True  \n",
       "14587        False          False          False           True  \n",
       "14593        False          False          False           True  \n",
       "14594        False          False          False           True  \n",
       "14600        False          False          False           True  \n",
       "\n",
       "[4971 rows x 18 columns]"
      ]
     },
     "execution_count": 40,
     "metadata": {},
     "output_type": "execute_result"
    }
   ],
   "source": [
    "fire_df = df_encoded[df_encoded['FIRE_START_DAY'] == True]\n",
    "fire_df"
   ]
  }
 ],
 "metadata": {
  "kernelspec": {
   "display_name": "Python 3 (ipykernel)",
   "language": "python",
   "name": "python3"
  },
  "language_info": {
   "codemirror_mode": {
    "name": "ipython",
    "version": 3
   },
   "file_extension": ".py",
   "mimetype": "text/x-python",
   "name": "python",
   "nbconvert_exporter": "python",
   "pygments_lexer": "ipython3",
   "version": "3.13.7"
  }
 },
 "nbformat": 4,
 "nbformat_minor": 5
}
